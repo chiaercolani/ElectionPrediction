{
 "cells": [
  {
   "cell_type": "code",
   "execution_count": 4,
   "metadata": {
    "collapsed": false
   },
   "outputs": [],
   "source": [
    "import numpy as np\n",
    "from sklearn import linear_model"
   ]
  },
  {
   "cell_type": "code",
   "execution_count": 5,
   "metadata": {
    "collapsed": false
   },
   "outputs": [
    {
     "name": "stdout",
     "output_type": "stream",
     "text": [
      "[ 3.  5.  7.]\n",
      "[ 96.  90.  64.]\n",
      "[ 99.  83.  69.]\n"
     ]
    }
   ],
   "source": [
    "#Example\n",
    "b = np.array([3,5,7])\n",
    "x = np.array([[1,6,9],  \n",
    "              [2,7,7],   \n",
    "              [3,4,5]])  \n",
    "y = np.array([96,90,64])\n",
    "\n",
    "x_test = np.array([[2,6,9],  \n",
    "                  [2,7,6],   \n",
    "                  [3,5,5]]) \n",
    "\n",
    "clf = linear_model.LinearRegression(fit_intercept=False)\n",
    "clf.fit(x, y)\n",
    "print (clf.coef_)\n",
    "print (np.dot(x, clf.coef_))\n",
    "\n",
    "print(clf.predict(x_test))"
   ]
  },
  {
   "cell_type": "code",
   "execution_count": null,
   "metadata": {
    "collapsed": false
   },
   "outputs": [],
   "source": [
    "\n"
   ]
  }
 ],
 "metadata": {
  "anaconda-cloud": {},
  "kernelspec": {
   "display_name": "Python [conda root]",
   "language": "python",
   "name": "conda-root-py"
  },
  "language_info": {
   "codemirror_mode": {
    "name": "ipython",
    "version": 3
   },
   "file_extension": ".py",
   "mimetype": "text/x-python",
   "name": "python",
   "nbconvert_exporter": "python",
   "pygments_lexer": "ipython3",
   "version": "3.5.2"
  }
 },
 "nbformat": 4,
 "nbformat_minor": 1
}
