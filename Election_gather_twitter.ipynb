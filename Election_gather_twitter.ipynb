{
 "cells": [
  {
   "cell_type": "code",
   "execution_count": 2,
   "metadata": {
    "collapsed": true
   },
   "outputs": [],
   "source": [
    "# Info Account\n",
    "import tweepy  # pip install tweepy\n",
    "\n",
    "consumer_key = \"YOUR-CONSUMER-KEY\"\n",
    "consumer_secret = \"YOUR-CONSUMER-SECRET\"\n",
    "access_token = \"YOUR-ACCESS-TOKEN\"\n",
    "access_secret = \"YOUR-ACCESS-SECRET\"\n",
    "\n",
    "\n",
    "\n",
    "user = 'EPFL_en' #user to look at\n",
    "\n",
    "\n"
   ]
  },
  {
   "cell_type": "code",
   "execution_count": null,
   "metadata": {
    "collapsed": true
   },
   "outputs": [],
   "source": [
    "#Scrapping\n",
    "\n",
    "\n",
    "\n",
    "auth = tweepy.OAuthHandler(credentials.get('twitter', 'consumer_key'), credentials.get('twitter', 'consumer_secret'))\n",
    "auth.set_access_token(credentials.get('twitter', 'access_token'), credentials.get('twitter', 'access_secret'))\n",
    "api = tweepy.API(auth)\n",
    "\n",
    "followers = api.get_user(user).followers_count\n",
    "print('{} has {} followers'.format(user, followers))\n",
    "\n",
    "tw = pd.DataFrame(columns=['id', 'text', 'time', 'likes', 'shares'])\n",
    "for tweet in tweepy.Cursor(api.user_timeline, screen_name=user).items(n):\n",
    "    serie = dict(id=tweet.id, text=tweet.text, time=tweet.created_at)\n",
    "    serie.update(dict(likes=tweet.favorite_count, shares=tweet.retweet_count))\n",
    "    tw = tw.append(serie, ignore_index=True)"
   ]
  },
  {
   "cell_type": "code",
   "execution_count": null,
   "metadata": {
    "collapsed": true
   },
   "outputs": [],
   "source": [
    "#Prepare data\n",
    "\n",
    "tw.id = tw.id.astype(int)\n",
    "tw.likes = tw.likes.astype(int)\n",
    "tw.shares = tw.shares.astype(int)"
   ]
  },
  {
   "cell_type": "code",
   "execution_count": null,
   "metadata": {
    "collapsed": true
   },
   "outputs": [],
   "source": [
    "\n",
    "from IPython.display import display\n",
    "display(tw[:5])"
   ]
  },
  {
   "cell_type": "code",
   "execution_count": null,
   "metadata": {
    "collapsed": true
   },
   "outputs": [],
   "source": [
    "import os\n",
    "\n",
    "folder = os.path.join('..', 'data', 'social_media')\n",
    "try:\n",
    "    os.makedirs(folder)\n",
    "except FileExistsError:\n",
    "    pass\n",
    "\n",
    "filename = os.path.join(folder, 'twitter.sqlite')\n",
    "tw.to_sql('twitter', 'sqlite:///' + filename, if_exists='replace')"
   ]
  }
 ],
 "metadata": {
  "anaconda-cloud": {},
  "kernelspec": {
   "display_name": "Python [default]",
   "language": "python",
   "name": "python3"
  },
  "language_info": {
   "codemirror_mode": {
    "name": "ipython",
    "version": 3
   },
   "file_extension": ".py",
   "mimetype": "text/x-python",
   "name": "python",
   "nbconvert_exporter": "python",
   "pygments_lexer": "ipython3",
   "version": "3.5.2"
  }
 },
 "nbformat": 4,
 "nbformat_minor": 1
}
