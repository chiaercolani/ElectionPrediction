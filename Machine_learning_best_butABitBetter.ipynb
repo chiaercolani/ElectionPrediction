{
 "cells": [
  {
   "cell_type": "code",
   "execution_count": 5,
   "metadata": {
    "collapsed": false,
    "scrolled": true
   },
   "outputs": [],
   "source": [
    "#Training phase\n",
    "import numpy as np \n",
    "from sklearn import linear_model\n",
    "\n",
    "\n",
    "# Import the data from the \".csv\" Each file is about one deputy and contains the mean of the sentiment analysis \n",
    "# per day. The description of the function mean is above in the report.\n",
    "mean_rubio=np.loadtxt(r'mean/mean_marcorubio.csv', comments='++++',delimiter=';',skiprows=1,usecols=(4,))\n",
    "mean_murphy=np.loadtxt(r'mean/mean_patrickMurphy.csv', comments='++++',delimiter=';',skiprows=1,usecols=(4,))\n",
    "\n",
    "mean_tammy=np.loadtxt(r'mean/mean_tammy.csv', comments='++++',delimiter=';',skiprows=1,usecols=(4,))\n",
    "mean_kirk=np.loadtxt(r'mean/mean_kirk.csv', comments='++++',delimiter=';',skiprows=1,usecols=(4,))\n",
    "\n",
    "mean_hassan=np.loadtxt(r'mean/mean_governorHassan.csv', comments='++++',delimiter=';',skiprows=1,usecols=(4,))\n",
    "mean_ayotte=np.loadtxt(r'mean/mean_kellyayotte.csv', comments='++++',delimiter=';',skiprows=1,usecols=(4,))\n",
    "\n",
    "mean_john=np.loadtxt(r'mean/mean_john.csv', comments='++++',delimiter=';',skiprows=1,usecols=(4,))\n",
    "mean_kirkpatrick=np.loadtxt(r'mean/mean_kirkpatrick.csv', comments='++++',delimiter=';',skiprows=1,usecols=(4,))\n",
    "\n",
    "mean_harris=np.loadtxt(r'mean/mean_harris.csv', comments='++++',delimiter=';',skiprows=1,usecols=(4,))\n",
    "mean_sanchez=np.loadtxt(r'mean/mean_sanchez.csv', comments='++++',delimiter=';',skiprows=1,usecols=(4,))\n",
    "\n",
    "mean_schumer=np.loadtxt(r'mean/mean_schumer.csv', comments='++++',delimiter=';',skiprows=1,usecols=(4,))\n",
    "mean_wendylong=np.loadtxt(r'mean/mean_wendylong.csv', comments='++++',delimiter=';',skiprows=1,usecols=(4,))\n",
    "\n",
    "mean_blumenthal=np.loadtxt(r'mean/mean_blumenthal.csv', comments='++++',delimiter=';',skiprows=1,usecols=(4,))\n",
    "mean_carter=np.loadtxt(r'mean/mean_carter.csv', comments='++++',delimiter=';',skiprows=1,usecols=(4,))\n",
    "\n",
    "mean_portman=np.loadtxt(r'mean/mean_portman.csv', comments='++++',delimiter=';',skiprows=1,usecols=(4,))\n",
    "mean_strickland=np.loadtxt(r'mean/mean_strickland.csv', comments='++++',delimiter=';',skiprows=1,usecols=(4,))\n",
    "\n",
    "mean_isakson=np.loadtxt(r'mean/mean_isakson.csv', comments='++++',delimiter=';',skiprows=1,usecols=(4,))\n",
    "mean_barksdale=np.loadtxt(r'mean/mean_barksdale.csv', comments='++++',delimiter=';',skiprows=1,usecols=(4,))\n",
    "\n",
    "mean_blunt=np.loadtxt(r'mean/mean_blunt.csv', comments='++++',delimiter=';',skiprows=1,usecols=(4,))\n",
    "mean_kander=np.loadtxt(r'mean/mean_kander.csv', comments='++++',delimiter=';',skiprows=1,usecols=(4,))\n",
    "\n",
    "mean_masto=np.loadtxt(r'mean/mean_catherineForNY.csv', comments='++++',delimiter=';',skiprows=1,usecols=(4,))\n",
    "mean_heck=np.loadtxt(r'mean/mean_heck.csv', comments='++++',delimiter=';',skiprows=1,usecols=(4,))\n",
    "\n",
    "mean_murray=np.loadtxt(r'mean/mean_pattyMurray.csv', comments='++++',delimiter=';',skiprows=1,usecols=(4,))\n",
    "mean_vance=np.loadtxt(r'mean/mean_chrisvance.csv', comments='++++',delimiter=';',skiprows=1,usecols=(4,))\n",
    "\n",
    "mean_moran=np.loadtxt(r'mean/mean_moran.csv', comments='++++',delimiter=';',skiprows=1,usecols=(4,))\n",
    "mean_wiesner=np.loadtxt(r'mean/mean_wiesner.csv', comments='++++',delimiter=';',skiprows=1,usecols=(4,))\n",
    "\n",
    "mean_crapo=np.loadtxt(r'mean/mean_crapo.csv', comments='++++',delimiter=';',skiprows=1,usecols=(4,))\n",
    "mean_sturgill=np.loadtxt(r'mean/mean_sturgill.csv', comments='++++',delimiter=';',skiprows=1,usecols=(4,))\n",
    "\n",
    "mean_young=np.loadtxt(r'mean/mean_ToddYoung.csv', comments='++++',delimiter=';',skiprows=1,usecols=(4,))\n",
    "mean_bayh=np.loadtxt(r'mean/mean_bayh.csv', comments='++++',delimiter=';',skiprows=1,usecols=(4,))\n",
    "\n",
    "mean_grassley=np.loadtxt(r'mean/mean_grassley.csv', comments='++++',delimiter=';',skiprows=1,usecols=(4,))\n",
    "mean_judge=np.loadtxt(r'mean/mean_pattyforIowa.csv', comments='++++',delimiter=';',skiprows=1,usecols=(4,))\n",
    "\n",
    "mean_paul=np.loadtxt(r'mean/mean_paul.csv', comments='++++',delimiter=';',skiprows=1,usecols=(4,))\n",
    "mean_gray=np.loadtxt(r'mean/mean_GrayLex.csv', comments='++++',delimiter=';',skiprows=1,usecols=(4,))\n",
    "\n",
    "mean_kennedy=np.loadtxt(r'mean/mean_kennedy.csv', comments='++++',delimiter=';',skiprows=1,usecols=(4,))\n",
    "mean_campbell=np.loadtxt(r'mean/mean_campbell.csv', comments='++++',delimiter=';',skiprows=1,usecols=(4,))\n",
    "\n",
    "mean_hollen=np.loadtxt(r'mean/mean_vanhollen.csv', comments='++++',delimiter=';',skiprows=1,usecols=(4,))\n",
    "mean_szeliga=np.loadtxt(r'mean/mean_kathyForMD.csv', comments='++++',delimiter=';',skiprows=1,usecols=(4,))\n"
   ]
  },
  {
   "cell_type": "code",
   "execution_count": null,
   "metadata": {
    "collapsed": false
   },
   "outputs": [],
   "source": []
  },
  {
   "cell_type": "code",
   "execution_count": 6,
   "metadata": {
    "collapsed": true
   },
   "outputs": [],
   "source": [
    "# At this point, we want to add specif data to this list of mean. In this case, we had the number of follower that deputee has\n",
    "# as well as the number of unique people that tweet about him during the period. The last one is the number of tweet about the deputee.\n",
    "mean_rubio = np.append(mean_rubio,[1.8*1000000,27122, 73367])\n",
    "mean_murphy = np.append(mean_murphy,[12.3*1000,5978, 21705])\n",
    "\n",
    "mean_tammy = np.append(mean_tammy,[36.6*1000,2853, 4584])\n",
    "mean_kirk = np.append(mean_kirk,[52.8*1000,4550, 6541])\n",
    "\n",
    "mean_hassan = np.append(mean_hassan,[17.6*1000,672, 1296])\n",
    "mean_ayotte = np.append(mean_ayotte,[58.8*1000,11043, 25570])\n",
    "\n",
    "mean_john = np.append(mean_john,[2.09*1000000,21758, 40945])\n",
    "mean_kirkpatrick = np.append(mean_kirkpatrick,[11.6*1000,534, 968])\n",
    "\n",
    "mean_harris = np.append(mean_harris,[143*1000,3202, 5930])\n",
    "mean_sanchez= np.append(mean_sanchez,[19.9*1000,885, 1333])\n",
    "\n",
    "mean_schumer=np.append(mean_schumer,[207*1000,2759, 4961])\n",
    "mean_wendylong=np.append(mean_wendylong,[7345,1007, 1872])\n",
    "\n",
    "mean_blumenthal=np.append(mean_blumenthal,[48.2*1000,915, 1572])\n",
    "mean_carter=np.append(mean_carter,[1311,128, 320])\n",
    "\n",
    "mean_portman=np.append(mean_portman,[59.7*1000,1567, 3770])\n",
    "mean_strickland=np.append(mean_strickland,[16700,2566, 6301])\n",
    "\n",
    "mean_isakson=np.append(mean_isakson,[27600,834, 1626])\n",
    "mean_barksdale=np.append(mean_barksdale,[1133,354, 1058])\n",
    "\n",
    "mean_blunt=np.append(mean_blunt,[48.7*1000,1202, 2309])\n",
    "mean_kander=np.append(mean_kander,[39.9*1000,2573,6148])\n",
    "\n",
    "mean_masto=np.append(mean_masto,[16.2*1000,2145,6595])\n",
    "mean_heck=np.append(mean_heck,[12.1*1000,1471, 2547])\n",
    "\n",
    "mean_murray=np.append(mean_murray,[59.6*1000,1698,5063])\n",
    "mean_vance=np.append(mean_vance,[1163,252,723])\n",
    "\n",
    "mean_moran=np.append(mean_moran,[30.4*1000,484,771])\n",
    "mean_wiesner=np.append(mean_wiesner,[48,13,23])\n",
    "\n",
    "mean_crapo=np.append(mean_crapo,[26.8*1000,2111,3034])\n",
    "mean_sturgill=np.append(mean_sturgill,[168,78,148])\n",
    "\n",
    "mean_young=np.append(mean_young,[12.6*1000,1088, 2959])\n",
    "mean_bayh=np.append(mean_bayh,[3631,351,459])\n",
    "\n",
    "mean_grassley=np.append(mean_grassley,[106*1000,2841,7644])\n",
    "mean_judge=np.append(mean_judge,[1975,540,1596])\n",
    "\n",
    "mean_paul=np.append(mean_paul,[1.04*1000000,13915, 26249])\n",
    "mean_gray=np.append(mean_gray,[16.1*1000,306, 505])\n",
    "\n",
    "mean_kennedy=np.append(mean_kennedy,[6133,259, 722])\n",
    "mean_campbell=np.append(mean_campbell,[6456,231, 905])\n",
    "\n",
    "mean_hollen=np.append(mean_hollen,[32.8*1000,518, 719])\n",
    "mean_szeliga=np.append(mean_szeliga,[3556,411, 960])"
   ]
  },
  {
   "cell_type": "code",
   "execution_count": null,
   "metadata": {
    "collapsed": true
   },
   "outputs": [],
   "source": []
  },
  {
   "cell_type": "code",
   "execution_count": 39,
   "metadata": {
    "collapsed": false
   },
   "outputs": [],
   "source": [
    "# This is the list of result of the election. Every number represent the percentage of vote that the candidate obtain.\n",
    "Y_all_init = [52.0,44.3,\n",
    "             39.8, 54.9, \n",
    "             47.87,47.97,\n",
    "             53.0,41.0,\n",
    "             38.2,61.8,\n",
    "             70.4,27.4,\n",
    "             34.6,63.2,\n",
    "             58.0,37.1, \n",
    "             54.8,41.0,\n",
    "             46.2,49.3, \n",
    "             44.7,47.1,\n",
    "             59.04,40.96,\n",
    "             32.2,62.1,\n",
    "             66.1,27.8 ,\n",
    "             42.2,52.1,\n",
    "             60.1,35.7,\n",
    "             42.73,57.27, \n",
    "             39.35,60.65,\n",
    "             60.9,35.7]\n",
    "\n",
    "# This is the concatenation of all the data for the prediction. It contain the info about XX deputy.\n",
    "MEANS_all_init = np.vstack((\n",
    "        mean_rubio, mean_murphy,\n",
    "        mean_tammy, mean_kirk,\n",
    "        mean_ayotte, mean_hassan ,\n",
    "        mean_john, mean_kirkpatrick,\n",
    "        mean_sanchez, mean_harris ,\n",
    "        mean_schumer, mean_wendylong,\n",
    "        mean_carter, mean_blumenthal ,\n",
    "        mean_portman, mean_strickland,\n",
    "        mean_isakson, mean_barksdale,\n",
    "        mean_kander, mean_blunt , \n",
    "        mean_heck,mean_masto,\n",
    "        mean_murray, mean_vance,\n",
    "        mean_wiesner, mean_moran,\n",
    "        mean_crapo, mean_sturgill,\n",
    "        mean_bayh, mean_young,\n",
    "        mean_grassley, mean_judge,\n",
    "        mean_gray, mean_paul,\n",
    "        mean_campbell, mean_kennedy ,\n",
    "        mean_hollen, mean_szeliga\n",
    "    ))"
   ]
  },
  {
   "cell_type": "code",
   "execution_count": 41,
   "metadata": {
    "collapsed": false
   },
   "outputs": [],
   "source": [
    "from sklearn import linear_model\n",
    "import time\n",
    "from statsmodels.tsa.ar_model import AR\n",
    "\n",
    "newmeans = MEANS_all_init\n",
    "order = 17\n",
    "coeffs = np.zeros([38,order+4])\n",
    "for i in range(38):    \n",
    "    mean = newmeans[i]\n",
    "    ar_mod = AR(mean[0:61])\n",
    "    ar_res = ar_mod.fit(maxlag = order,method = 'cmle',ic='aic',trend = 'c',tol = 1e-2)\n",
    "    for n in range (len(ar_res.params)):\n",
    "        coeffs[i][n] = ar_res.params[n]\n",
    "    for m in range (3):\n",
    "        coeffs[i][m+order+1] = mean[62+m]\n",
    "\n",
    "shapeMean = np.shape(coeffs)\n",
    "nbFeature = shapeMean[1]\n",
    "MEANS_all_init_2 = coeffs"
   ]
  },
  {
   "cell_type": "code",
   "execution_count": 42,
   "metadata": {
    "collapsed": false
   },
   "outputs": [
    {
     "name": "stderr",
     "output_type": "stream",
     "text": [
      "C:\\Program Files\\Anaconda3\\lib\\site-packages\\ipykernel\\__main__.py:16: VisibleDeprecationWarning: converting an array with ndim > 0 to an index will result in an error in the future\n"
     ]
    },
    {
     "name": "stdout",
     "output_type": "stream",
     "text": [
      "0.63325\n"
     ]
    }
   ],
   "source": [
    "nbRight = 0\n",
    "nbAll = 0\n",
    "#nbFeature = 65\n",
    "\n",
    "#Number of time we want to try our prediction with a different set of training and test data.\n",
    "for iteration in range(1000):# 93024\n",
    "    MEANS_all = MEANS_all_init_2\n",
    "    Y_all = Y_all_init\n",
    "\n",
    "    #vector containing the data to test\n",
    "    Y_predict_final = np.zeros((8,1))\n",
    "    MEANS_predict_final = np.zeros((8,nbFeature))\n",
    "    for i in range(8):\n",
    "        #Choose randomly 8 person for the the data test\n",
    "        selected = np.random.randint(0,38-i, 1, dtype=int)\n",
    "        Y_predict_final[i] = Y_all[selected]\n",
    "        MEANS_predict_final[i] = MEANS_all[selected]\n",
    "\n",
    "        #Supress the data for the test to the data for the training\n",
    "        MEANS_all = np.delete(MEANS_all, selected, 0)\n",
    "        Y_all = np.delete(Y_all, selected, 0)\n",
    "\n",
    "    \n",
    "    coef_all = np.zeros((nbFeature))\n",
    "    nbKeep = 0\n",
    "    #We loop on all the data of the training test\n",
    "    for i in range(30):\n",
    "        #Prediction phase - We create the prediction model\n",
    "        clf = linear_model.LinearRegression(fit_intercept=False)\n",
    "\n",
    "        #We remove of the data to the training test\n",
    "        MEANS_fit = np.delete(MEANS_all, i, 0)\n",
    "        Y_fit = np.delete(Y_all, i, 0)\n",
    "\n",
    "        # We fit the data of 29 deputy to the model and we keep 1 for the testing.\n",
    "        clf.fit(MEANS_fit, Y_fit)\n",
    "\n",
    "        #The prediction with the data we reomove\n",
    "        predIt = clf.predict(MEANS_all[i].reshape(1, -1))\n",
    "\n",
    "        #If the prediction works, we keep the coeficient of the linear regression. (We add them to an array)\n",
    "        if (Y_all[i] >50 and predIt > 50 ) or (Y_all[i] < 50 and predIt < 50) :\n",
    "            #print('yep')\n",
    "            nbKeep += 1\n",
    "            coef_all += clf.coef_\n",
    "\n",
    "\n",
    "    #The average of all the coeficient we want to keep\n",
    "    coef_all = coef_all/nbKeep\n",
    "    \n",
    "    #The preidiction using the average coefficient we compute before.\n",
    "    #We count the number of try we have and the number of succes.\n",
    "    for i in range(len(Y_predict_final)):\n",
    "        nbAll +=1\n",
    "        pred1 = np.dot(MEANS_predict_final[i], coef_all)\n",
    "        if (Y_predict_final[i] > 50 and pred1 > 50 ) or (Y_predict_final[i] < 50 and pred1 < 50) :\n",
    "            nbRight += 1\n",
    "\n",
    "print(nbRight/nbAll)"
   ]
  },
  {
   "cell_type": "code",
   "execution_count": null,
   "metadata": {
    "collapsed": true
   },
   "outputs": [],
   "source": [
    "# aic, order 18 => 0.63\n",
    "# bic, order 5  => 0.53\n",
    "# hqic, order 12 =>  0.545\n",
    "# no algo (on mean) => 0.6"
   ]
  },
  {
   "cell_type": "code",
   "execution_count": null,
   "metadata": {
    "collapsed": false
   },
   "outputs": [],
   "source": []
  },
  {
   "cell_type": "code",
   "execution_count": null,
   "metadata": {
    "collapsed": false
   },
   "outputs": [],
   "source": []
  },
  {
   "cell_type": "code",
   "execution_count": null,
   "metadata": {
    "collapsed": false
   },
   "outputs": [],
   "source": []
  }
 ],
 "metadata": {
  "anaconda-cloud": {},
  "kernelspec": {
   "display_name": "Python [conda root]",
   "language": "python",
   "name": "conda-root-py"
  },
  "language_info": {
   "codemirror_mode": {
    "name": "ipython",
    "version": 3
   },
   "file_extension": ".py",
   "mimetype": "text/x-python",
   "name": "python",
   "nbconvert_exporter": "python",
   "pygments_lexer": "ipython3",
   "version": "3.5.2"
  }
 },
 "nbformat": 4,
 "nbformat_minor": 1
}
