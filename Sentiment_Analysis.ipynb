{
 "cells": [
  {
   "cell_type": "code",
   "execution_count": 3,
   "metadata": {
    "collapsed": false
   },
   "outputs": [
    {
     "name": "stdout",
     "output_type": "stream",
     "text": [
      "(0.85, 1.0)\n"
     ]
    }
   ],
   "source": [
    "from pattern.en import sentiment\n",
    " \n",
    "print sentiment (\"\")"
   ]
  },
  {
   "cell_type": "code",
   "execution_count": 92,
   "metadata": {
    "collapsed": false
   },
   "outputs": [],
   "source": [
    "import numpy as np \n",
    "text=np.loadtxt(r'data/output_got#barackobama @barackobama.csv',dtype=str, comments='++++',delimiter=';',skiprows=1,usecols=(4,))\n",
    "date=np.loadtxt(r'data/output_got#barackobama @barackobama.csv',dtype=str, comments='++++',delimiter=';',skiprows=1,usecols=(1,))\n",
    "retweet=np.loadtxt(r'data/output_got#barackobama @barackobama.csv',dtype=str, comments='++++',delimiter=';',skiprows=1,usecols=(2,))\n",
    "favourites=np.loadtxt(r'data/output_got#barackobama @barackobama.csv',dtype=str, comments='++++',delimiter=';',skiprows=1,usecols=(3,))\n",
    "\n",
    "\n",
    "text=np.core.defchararray.replace(text,'#',' ')\n",
    "text=np.core.defchararray.replace(text,'@',' ')\n",
    "\n",
    "array_sentiment=np.zeros((len(text),2))\n",
    "\n",
    "\n",
    "for i in range(len(text)):\n",
    "    array_sentiment[i] = sentiment(text[i])\n",
    "\n",
    "\n",
    "np.savetxt('sentiment.csv',np.transpose([date,array_sentiment[:,0],array_sentiment[:,1],retweet,favourites]),fmt=\"%s;%s;%s;%s;%s\",delimiter=';',header=\"date;sentiment;objectivity;retweets;favourites\")\n",
    "#array_sentiment[:,0],array_sentiment[:,1]"
   ]
  },
  {
   "cell_type": "code",
   "execution_count": null,
   "metadata": {
    "collapsed": true
   },
   "outputs": [],
   "source": []
  }
 ],
 "metadata": {
  "kernelspec": {
   "display_name": "Python 2",
   "language": "python",
   "name": "python2"
  },
  "language_info": {
   "codemirror_mode": {
    "name": "ipython",
    "version": 2
   },
   "file_extension": ".py",
   "mimetype": "text/x-python",
   "name": "python",
   "nbconvert_exporter": "python",
   "pygments_lexer": "ipython2",
   "version": "2.7.10"
  }
 },
 "nbformat": 4,
 "nbformat_minor": 1
}
