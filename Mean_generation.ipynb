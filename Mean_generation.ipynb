{
 "cells": [
  {
   "cell_type": "code",
   "execution_count": 53,
   "metadata": {
    "collapsed": false
   },
   "outputs": [
    {
     "name": "stdout",
     "output_type": "stream",
     "text": [
      "[0.32000000000000001, 0.089393939393933322, -0.5, 0.017857142857100002, 0.3196969696969727, -0.015909090909000001, 0.32777777777766665, 0.38749999999999996, 0.75, 1.0, -0.011111111111100001, 0.34999999999999998, 0.43703703703699998, 0.41666666666699997, -0.10000000000000001, 0.15000000000000002, -0.29166666666649999, -1.0, 0.050000000000000003, 0.80000000000000016, 0.5, 0.39285714285700002, 0.4085978835979, 0.34479166666674999, 0.29999999999999999, -0.25, 0.80000000000000004]\n"
     ]
    }
   ],
   "source": [
    "import numpy as np \n",
    "sentim=np.loadtxt(r'sentiment.csv', comments='++++',delimiter=';',skiprows=1,usecols=(1,))\n",
    "date=np.loadtxt(r'sentiment.csv',dtype=str, comments='++++',delimiter=';',skiprows=1,usecols=(0,))\n",
    "retweet=np.loadtxt(r'sentiment.csv', comments='++++',delimiter=';',skiprows=1,usecols=(3,))\n",
    "favourites=np.loadtxt(r'sentiment.csv', comments='++++',delimiter=';',skiprows=1,usecols=(4,))\n",
    "\n",
    "mean=[]\n",
    "\n",
    "\n",
    "#create day and month arrays\n",
    "array_day =np.zeros(len(date))\n",
    "array_month=np.zeros(len(date))\n",
    "for i in range(len(date)):\n",
    "    array_day[i]=np.datetime64(date[i]).astype(object).day\n",
    "    array_month[i]=np.datetime64(date[i]).astype(object).month\n",
    "\n",
    "#create weight array\n",
    "array_weight =np.zeros(len(sentim))\n",
    "for i in range(len(retweet)):\n",
    "    if(retweet[i]!=0.0 or favourites[i]!=0.0):\n",
    "        array_weight[i]=retweet[i]+favourites[i]\n",
    "    else:\n",
    "        array_weight[i]= 1\n",
    "\n",
    "#compute the mean\n",
    "cnt_date=0\n",
    "cnt_mean=[]\n",
    "\n",
    "last_day = 0\n",
    "last_month = 0\n",
    "days=[]\n",
    "months=[]\n",
    "\n",
    "for i in range(len(date)):\n",
    "    if (i==0):       \n",
    "        mean.append(sentim[0])\n",
    "        last_day = array_day[0]\n",
    "        last_month=array_month[0]\n",
    "        days.append(array_day[0])\n",
    "        months.append(array_month[0])\n",
    "        if(sentim[0]!=0.0):\n",
    "            cnt_mean.append(array_weight[0])\n",
    "        else:\n",
    "            cnt_mean.append(0) \n",
    "    elif(sentim[i]!=0.0):       \n",
    "        if (array_day[i]==last_day and array_month[i]==last_month):\n",
    "            mean[cnt_date]=mean[cnt_date]+array_weight[i]*sentim[i]\n",
    "            cnt_mean[cnt_date]=cnt_mean[cnt_date]+array_weight[i]\n",
    "            last_day = array_day[i]\n",
    "            last_month=array_month[i]\n",
    "        else:\n",
    "            cnt_date=cnt_date+1\n",
    "            mean.append(array_weight[i]*sentim[i])\n",
    "            cnt_mean.append(array_weight[i])\n",
    "            last_day = array_day[i]\n",
    "            last_month=array_month[i]\n",
    "            days.append(array_day[i])\n",
    "            months.append(array_month[i])\n",
    "\n",
    "\n",
    "weigthed_mean=[]\n",
    "\n",
    "for i in range(len(mean)):\n",
    "    weigthed_mean.append(mean[i]/cnt_mean[i])\n",
    "print(weigthed_mean)  \n",
    "np.savetxt('mean.csv',np.transpose([days,months,mean,cnt_mean,weigthed_mean]),fmt=\"%s;%s;%s;%s;%s\",delimiter=';',header=\"day;month;sum;weight;mean\")\n",
    "#array_sentiment[:,0],array_sentiment[:,1]"
   ]
  },
  {
   "cell_type": "code",
   "execution_count": null,
   "metadata": {
    "collapsed": true
   },
   "outputs": [],
   "source": [
    "]"
   ]
  },
  {
   "cell_type": "code",
   "execution_count": null,
   "metadata": {
    "collapsed": true
   },
   "outputs": [],
   "source": []
  }
 ],
 "metadata": {
  "kernelspec": {
   "display_name": "Python 2",
   "language": "python",
   "name": "python2"
  },
  "language_info": {
   "codemirror_mode": {
    "name": "ipython",
    "version": 2
   },
   "file_extension": ".py",
   "mimetype": "text/x-python",
   "name": "python",
   "nbconvert_exporter": "python",
   "pygments_lexer": "ipython2",
   "version": "2.7.10"
  }
 },
 "nbformat": 4,
 "nbformat_minor": 1
}
