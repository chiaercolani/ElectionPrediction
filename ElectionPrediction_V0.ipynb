{
 "cells": [
  {
   "cell_type": "markdown",
   "metadata": {},
   "source": [
    "# A Python Tour of Data Science: Data Acquisition & Exploration     \n",
    "\n",
    "[Michaël Defferrard](http://deff.ch), *PhD student*, [EPFL](http://epfl.ch) [LTS2](http://lts2.epfl.ch)"
   ]
  },
  {
   "cell_type": "markdown",
   "metadata": {},
   "source": [
    "# 1 Exercise: problem definition\n",
    "\n",
    "Theme of the exercise: **understand the impact of your communication on social networks**. A real life situation: the marketing team needs help in identifying which were the most engaging posts they made on social platforms to prepare their next [AdWords](https://www.google.com/adwords/) campaign.\n",
    "\n",
    "As you probably don't have a company (yet?), you can either use your own social network profile as if it were the company's one or choose an established entity, e.g. EPFL. You will need to be registered in FB or Twitter to generate access tokens. If you're not, either ask a classmate to create a token for you or create a fake / temporary account for yourself (no need to follow other people, we can fetch public data).\n",
    "\n",
    "At the end of the exercise, you should have two datasets (Facebook & Twitter) and have used them to answer the following questions, for both Facebook and Twitter.\n",
    "1. How many followers / friends / likes has your chosen profile ?\n",
    "2. How many posts / tweets in the last year ?\n",
    "3. What were the 5 most liked posts / tweets ?\n",
    "4. Plot histograms of number of likes and comments / retweets.\n",
    "5. Plot basic statistics and an histogram of text lenght.\n",
    "6. Is there any correlation between the lenght of the text and the number of likes ?\n",
    "7. Be curious and explore your data. Did you find something interesting or surprising ?\n",
    "    1. Create at least one interactive plot (with bokeh) to explore an intuition (e.g. does the posting time plays a role)."
   ]
  },
  {
   "cell_type": "markdown",
   "metadata": {},
   "source": [
    "# 2 Ressources\n",
    "\n",
    "Here are some links you may find useful to complete that exercise.\n",
    "\n",
    "Web APIs: these are the references.\n",
    "* [Facebook Graph API](https://developers.facebook.com/docs/graph-api)\n",
    "* [Twitter REST API](https://dev.twitter.com/rest/public)\n",
    "\n",
    "Tutorials:\n",
    "* [Mining the Social Web](https://github.com/ptwobrussell/Mining-the-Social-Web-2nd-Edition)\n",
    "* [Mining Twitter data with Python](https://marcobonzanini.com/2015/03/02/mining-twitter-data-with-python-part-1/)\n",
    "* [Simple Python Facebook Scraper](http://simplebeautifuldata.com/2014/08/25/simple-python-facebook-scraper-part-1/)"
   ]
  },
  {
   "cell_type": "markdown",
   "metadata": {},
   "source": [
    "# 3 Web scraping\n",
    "\n",
    "Tasks:\n",
    "1. Download the relevant information from Facebook and Twitter. Try to minimize the quantity of collected data to the minimum required to answer the questions.\n",
    "2. Build two SQLite databases, one for Facebook and the other for Twitter, using [pandas](http://pandas.pydata.org/) and [SQLAlchemy](http://www.sqlalchemy.org/).\n",
    "    1. For FB, each row is a post, and the columns are at least (you can include more if you want): the post id, the message (i.e. the text), the time when it was posted, the number of likes and the number of comments.\n",
    "    2. For Twitter, each row is a tweet, and the columns are at least: the tweet id, the text, the creation time, the number of likes (was called favorite before) and the number of retweets.\n",
    "\n",
    "Note that some data cleaning is already necessary. E.g. there are some FB posts without *message*, i.e. without text. Some tweets are also just retweets without any more information. Should they be collected ?"
   ]
  },
  {
   "cell_type": "code",
   "execution_count": null,
   "metadata": {
    "collapsed": true
   },
   "outputs": [],
   "source": [
    "# Number of posts / tweets to retrieve.\n",
    "# Small value for development, then increase to collect final data.\n",
    "n = 4000  # 20"
   ]
  },
  {
   "cell_type": "markdown",
   "metadata": {},
   "source": [
    "## 3.1 Facebook\n",
    "\n",
    "There is two ways to scrape data from Facebook, you can choose one or combine them.\n",
    "1. The low-level approach, sending HTTP requests and receiving JSON responses to / from their Graph API. That can be achieved with the json and [requests](python-requests.org) packages (altough you can use urllib or urllib2, requests has a better API). The knowledge you'll acquire using that method will be useful to query other web APIs than FB. This method is also more flexible.\n",
    "2. The high-level approach, using a [Python SDK](http://facebook-sdk.readthedocs.io). The code you'll have to write for this method is gonna be shorter, but specific to the FB Graph API.\n",
    "\n",
    "You will need an access token, which can be created with the help of the [Graph Explorer](https://developers.facebook.com/tools/explorer). That tool may prove useful to test queries. Once you have your token, you may create a `credentials.ini` file with the following content:\n",
    "```\n",
    "[facebook]\n",
    "token = YOUR-FB-ACCESS-TOKEN\n",
    "```"
   ]
  },
  {
   "cell_type": "code",
   "execution_count": null,
   "metadata": {
    "collapsed": false
   },
   "outputs": [],
   "source": [
    "import configparser\n",
    "\n",
    "# Read the confidential token.\n",
    "credentials = configparser.ConfigParser()\n",
    "credentials.read('credentials.ini')\n",
    "token = credentials.get('facebook', 'token')\n",
    "\n",
    "# Or token = 'YOUR-FB-ACCESS-TOKEN'"
   ]
  },
  {
   "cell_type": "code",
   "execution_count": null,
   "metadata": {
    "collapsed": true
   },
   "outputs": [],
   "source": [
    "import requests  # pip install requests\n",
    "import facebook  # pip install facebook-sdk\n",
    "import pandas as pd"
   ]
  },
  {
   "cell_type": "code",
   "execution_count": null,
   "metadata": {
    "collapsed": false
   },
   "outputs": [],
   "source": [
    "page = 'EPFL.ch'"
   ]
  },
  {
   "cell_type": "markdown",
   "metadata": {},
   "source": [
    "### 3.1.1 Scrap with HTTP requests"
   ]
  },
  {
   "cell_type": "markdown",
   "metadata": {},
   "source": [
    "#### 3.1.1.1 Get the number of likes\n",
    "\n",
    "The process is three-way:\n",
    "1. Assemble an URL to query. The documentation of the FB Graph API is useful there. You can click on the URL to let your browser make the query and return the result.\n",
    "2. Send an HTTP GET request, receive the results and interpret it as JSON (because Facebook sends data in JSON).\n",
    "3. Explore the received data and extract what interests us, here the number of likes. If we don't get what we want (or if we get too much), we can modify the query url. Note that the hierarchical JSON format is exposed as a dictionary."
   ]
  },
  {
   "cell_type": "code",
   "execution_count": null,
   "metadata": {
    "collapsed": false
   },
   "outputs": [],
   "source": [
    "# 1. Form URL.\n",
    "url = 'https://graph.facebook.com/{}?fields=likes&access_token={}'.format(page, token)\n",
    "#print(url)\n",
    "\n",
    "# 2. Get data.\n",
    "data = requests.get(url).json()\n",
    "print('data:', data)\n",
    "\n",
    "# Optionally, check for errors. Most probably the session has expired.\n",
    "if 'error' in data.keys():\n",
    "    raise Exception(data)\n",
    "\n",
    "# 3. Extract data.\n",
    "print('{} has {} likes'.format(page, data['likes']))"
   ]
  },
  {
   "cell_type": "markdown",
   "metadata": {},
   "source": [
    "#### 3.1.1.2 Get posts\n",
    "\n",
    "The process is similar here, except that the query and extraction are more complicated (because we work with more data). As you may have found out, FB returns at most 100 posts at a time. To get more posts, they provide *paging*, which we use to requests the next posts."
   ]
  },
  {
   "cell_type": "code",
   "execution_count": null,
   "metadata": {
    "collapsed": false
   },
   "outputs": [],
   "source": [
    "# 1. Form URL. You can click that url and see the returned JSON in your browser.\n",
    "fields = 'id,created_time,message,likes.limit(0).summary(1),comments.limit(0).summary(1)'\n",
    "url = 'https://graph.facebook.com/{}/posts?fields={}&access_token={}'.format(page, fields, token)\n",
    "#print(url)\n",
    "\n",
    "# Create the pandas DataFrame, a table which columns are post id, message, created time, #likes and #comments.\n",
    "fb = pd.DataFrame(columns=['id', 'text', 'time', 'likes', 'comments'])\n",
    "\n",
    "# The outer loop is to query FB multiple times, as FB sends at most 100 posts at a time.\n",
    "while len(fb) < n:\n",
    "    \n",
    "    # 2. Get the data from FB. At most 100 posts.\n",
    "    posts = requests.get(url).json()\n",
    "\n",
    "    # 3. Here we extract information for each of the received post.\n",
    "    for post in posts['data']:\n",
    "        # The information is stored in a dictionary.\n",
    "        serie = dict(id=post['id'], time=post['created_time'])\n",
    "        try:\n",
    "            serie['text'] = post['message']\n",
    "        except KeyError:\n",
    "            # Let's say we are not interested in posts without text.\n",
    "            continue\n",
    "        serie['likes'] = post['likes']['summary']['total_count']\n",
    "        serie['comments'] = post['comments']['summary']['total_count']\n",
    "        # Add the dictionary as a new line to our pandas DataFrame.\n",
    "        fb = fb.append(serie, ignore_index=True)\n",
    "    \n",
    "    try:\n",
    "        # That URL is returned by FB to access the next 'page', i.e. the next 100 posts.\n",
    "        url = posts['paging']['next']\n",
    "    except KeyError:\n",
    "        # No more posts.\n",
    "        break"
   ]
  },
  {
   "cell_type": "code",
   "execution_count": null,
   "metadata": {
    "collapsed": false
   },
   "outputs": [],
   "source": [
    "fb[:5]"
   ]
  },
  {
   "cell_type": "markdown",
   "metadata": {},
   "source": [
    "### 3.1.2 Scrap with Facebook SDK\n",
    "\n",
    "That method is much slower because it should retrieve the comments and likes, not only their number, for each post. The API is not expressive enough to do otherwise."
   ]
  },
  {
   "cell_type": "code",
   "execution_count": null,
   "metadata": {
    "collapsed": false
   },
   "outputs": [],
   "source": [
    "g = facebook.GraphAPI(token, version='2.7')\n",
    "\n",
    "# We limit to 10 because it's slow.\n",
    "posts = g.get_connections(page, 'posts', limit=10)\n",
    "\n",
    "if 'error' in posts.keys():\n",
    "    # Most probably the session has expired.\n",
    "    raise Exception(data)\n",
    "\n",
    "for post in posts['data']:\n",
    "    pid = post['id']\n",
    "    try:\n",
    "        text = post['message']\n",
    "    except KeyError:\n",
    "        continue\n",
    "    time = post['created_time']\n",
    "    likes = g.get_connections(pid, 'likes', summary=True, limit=0)\n",
    "    nlikes = likes['summary']['total_count']\n",
    "    comments = g.get_connections(pid, 'comments', summary=True, limit=0)\n",
    "    ncomments = comments['summary']['total_count']\n",
    "    print('{:6d} {:6d} {} {}'.format(nlikes, ncomments, time, text[:50]))"
   ]
  },
  {
   "cell_type": "markdown",
   "metadata": {},
   "source": [
    "## 3.2 Twitter\n",
    "\n",
    "There exists a bunch of [Python-based clients](https://dev.twitter.com/overview/api/twitter-libraries#python) for Twitter. [Tweepy](http://tweepy.readthedocs.io) is a popular choice.\n",
    "\n",
    "You will need to create a [Twitter app](https://apps.twitter.com/) and copy the four tokens and secrets in the `credentials.ini` file:\n",
    "```\n",
    "[twitter]\n",
    "consumer_key = YOUR-CONSUMER-KEY\n",
    "consumer_secret = YOUR-CONSUMER-SECRET\n",
    "access_token = YOUR-ACCESS-TOKEN\n",
    "access_secret = YOUR-ACCESS-SECRET\n",
    "```"
   ]
  },
  {
   "cell_type": "code",
   "execution_count": null,
   "metadata": {
    "collapsed": false
   },
   "outputs": [],
   "source": [
    "import tweepy  # pip install tweepy\n",
    "\n",
    "auth = tweepy.OAuthHandler(credentials.get('twitter', 'consumer_key'), credentials.get('twitter', 'consumer_secret'))\n",
    "auth.set_access_token(credentials.get('twitter', 'access_token'), credentials.get('twitter', 'access_secret'))\n",
    "api = tweepy.API(auth)\n",
    "\n",
    "user = 'EPFL_en'"
   ]
  },
  {
   "cell_type": "code",
   "execution_count": null,
   "metadata": {
    "collapsed": false
   },
   "outputs": [],
   "source": [
    "followers = api.get_user(user).followers_count\n",
    "print('{} has {} followers'.format(user, followers))"
   ]
  },
  {
   "cell_type": "markdown",
   "metadata": {},
   "source": [
    "The code is much simpler for Twitter than Facebook because Tweepy handles much of the dirty work, like paging."
   ]
  },
  {
   "cell_type": "code",
   "execution_count": null,
   "metadata": {
    "collapsed": false
   },
   "outputs": [],
   "source": [
    "tw = pd.DataFrame(columns=['id', 'text', 'time', 'likes', 'shares'])\n",
    "for tweet in tweepy.Cursor(api.user_timeline, screen_name=user).items(n):\n",
    "    serie = dict(id=tweet.id, text=tweet.text, time=tweet.created_at)\n",
    "    serie.update(dict(likes=tweet.favorite_count, shares=tweet.retweet_count))\n",
    "    tw = tw.append(serie, ignore_index=True)"
   ]
  },
  {
   "cell_type": "markdown",
   "metadata": {},
   "source": [
    "# 4 Prepare and save data\n",
    "\n",
    "To facilitate our analysis, we first prepare the data.\n",
    "1. Convert floating point numbers to integers.\n",
    "1. Convert Facebook post time from string to datetime.\n",
    "\n",
    "That is not necessary, but it'll allow to e.g. compare posting dates with standard comparison operators like `>` and `<`."
   ]
  },
  {
   "cell_type": "code",
   "execution_count": null,
   "metadata": {
    "collapsed": false
   },
   "outputs": [],
   "source": [
    "#fb.id = fb.id.astype(int)\n",
    "fb.likes = fb.likes.astype(int)\n",
    "fb.comments = fb.comments.astype(int)\n",
    "\n",
    "tw.id = tw.id.astype(int)\n",
    "tw.likes = tw.likes.astype(int)\n",
    "tw.shares = tw.shares.astype(int)"
   ]
  },
  {
   "cell_type": "code",
   "execution_count": null,
   "metadata": {
    "collapsed": false
   },
   "outputs": [],
   "source": [
    "from datetime import datetime\n",
    "\n",
    "def convert_time(row):\n",
    "    return datetime.strptime(row['time'], '%Y-%m-%dT%H:%M:%S+0000')\n",
    "\n",
    "fb['time'] = fb.apply(convert_time, axis=1)"
   ]
  },
  {
   "cell_type": "code",
   "execution_count": null,
   "metadata": {
    "collapsed": false
   },
   "outputs": [],
   "source": [
    "from IPython.display import display\n",
    "display(fb[:5])\n",
    "display(tw[:5])"
   ]
  },
  {
   "cell_type": "markdown",
   "metadata": {},
   "source": [
    "Now that we collected everything, let's save it in two SQLite databases."
   ]
  },
  {
   "cell_type": "code",
   "execution_count": null,
   "metadata": {
    "collapsed": false
   },
   "outputs": [],
   "source": [
    "import os\n",
    "\n",
    "folder = os.path.join('..', 'data', 'social_media')\n",
    "try:\n",
    "    os.makedirs(folder)\n",
    "except FileExistsError:\n",
    "    pass\n",
    "\n",
    "filename = os.path.join(folder, 'facebook.sqlite')\n",
    "fb.to_sql('facebook', 'sqlite:///' + filename, if_exists='replace')\n",
    "\n",
    "filename = os.path.join(folder, 'twitter.sqlite')\n",
    "tw.to_sql('twitter', 'sqlite:///' + filename, if_exists='replace')"
   ]
  },
  {
   "cell_type": "markdown",
   "metadata": {},
   "source": [
    "# 5 Data analysis\n",
    "\n",
    "Answer the questions using [pandas](http://pandas.pydata.org/), [statsmodels](http://statsmodels.sourceforge.net/), [scipy.stats](http://docs.scipy.org/doc/scipy/reference/stats.html), [bokeh](http://bokeh.pydata.org)."
   ]
  },
  {
   "cell_type": "code",
   "execution_count": null,
   "metadata": {
    "collapsed": true
   },
   "outputs": [],
   "source": [
    "import numpy as np\n",
    "import matplotlib.pyplot as plt\n",
    "plt.style.use('ggplot')\n",
    "%matplotlib inline"
   ]
  },
  {
   "cell_type": "markdown",
   "metadata": {},
   "source": [
    "## 5.1 Number of posts"
   ]
  },
  {
   "cell_type": "code",
   "execution_count": null,
   "metadata": {
    "collapsed": false
   },
   "outputs": [],
   "source": [
    "date = datetime(2016, 9, 4)\n",
    "datestr = date.strftime('%Y-%m-%d')\n",
    "print('Number of posts after {}: {}'.format(datestr, sum(fb.time > date)))\n",
    "print('Number of tweets after {}: {}'.format(datestr, sum(tw.time > date)))"
   ]
  },
  {
   "cell_type": "markdown",
   "metadata": {},
   "source": [
    "## 5.2 Most liked\n",
    "\n",
    "Looks like we're really into rankings !!"
   ]
  },
  {
   "cell_type": "code",
   "execution_count": null,
   "metadata": {
    "collapsed": false
   },
   "outputs": [],
   "source": [
    "display(fb.sort_values(by='likes', ascending=False)[:5])\n",
    "display(tw.sort_values(by='likes', ascending=False)[:5])"
   ]
  },
  {
   "cell_type": "markdown",
   "metadata": {},
   "source": [
    "## 5.3 Engagement: likes, comments, shares"
   ]
  },
  {
   "cell_type": "code",
   "execution_count": null,
   "metadata": {
    "collapsed": false
   },
   "outputs": [],
   "source": [
    "pd.concat([fb.describe(), tw.loc[:,'likes':'shares'].describe()], axis=1)"
   ]
  },
  {
   "cell_type": "code",
   "execution_count": null,
   "metadata": {
    "collapsed": false
   },
   "outputs": [],
   "source": [
    "fig, axs = plt.subplots(1, 4, figsize=(15, 5))\n",
    "fb.likes.plot(kind='box', ax=axs[0]);\n",
    "fb.comments.plot(kind='box', ax=axs[1]);\n",
    "tw.likes.plot(kind='box', ax=axs[2]);\n",
    "tw.shares.plot(kind='box', ax=axs[3]);"
   ]
  },
  {
   "cell_type": "code",
   "execution_count": null,
   "metadata": {
    "collapsed": false
   },
   "outputs": [],
   "source": [
    "fb.hist(bins=20, log=True, figsize=(15, 5));"
   ]
  },
  {
   "cell_type": "code",
   "execution_count": null,
   "metadata": {
    "collapsed": false
   },
   "outputs": [],
   "source": [
    "fig, axs = plt.subplots(1, 2, figsize=(15, 5))\n",
    "tw.loc[:,'likes'].hist(bins=20, log=True, ax=axs[0]);\n",
    "tw.loc[tw.shares < 200, 'shares'].hist(bins=20, log=True, ax=axs[1]);"
   ]
  },
  {
   "cell_type": "markdown",
   "metadata": {},
   "source": [
    "## 5.4 Text length\n",
    "\n",
    "There is a stricking difference here:\n",
    "1. On Twitter, almost all tweets reach the 140 characters limit.\n",
    "2. The distribution is more Gaussian on Facebook."
   ]
  },
  {
   "cell_type": "code",
   "execution_count": null,
   "metadata": {
    "collapsed": false
   },
   "outputs": [],
   "source": [
    "def text_length(texts):\n",
    "    lengths = np.empty(len(texts), dtype=int)\n",
    "    for i, text in enumerate(texts):\n",
    "        lengths[i] = len(text)\n",
    "    plt.figure(figsize=(15, 5))\n",
    "    prop = lengths.min(), '{:.2f}'.format(lengths.mean()), lengths.max()\n",
    "    plt.title('min = {}, mean={}, max = {}'.format(*prop))\n",
    "    plt.hist(lengths, bins=20)\n",
    "\n",
    "text_length(tw.text)\n",
    "text_length(fb.text)"
   ]
  },
  {
   "cell_type": "markdown",
   "metadata": {},
   "source": [
    "## 5.5 Posting time\n",
    "\n",
    "We can clearly observe the office hours."
   ]
  },
  {
   "cell_type": "code",
   "execution_count": null,
   "metadata": {
    "collapsed": false
   },
   "outputs": [],
   "source": [
    "fb.id.groupby(fb.time.dt.hour).count().plot(kind='bar', alpha=0.4, color='y', figsize=(15,5));\n",
    "tw.id.groupby(tw.time.dt.hour).count().plot(kind='bar', alpha=0.4, color='g', figsize=(15,5));"
   ]
  },
  {
   "cell_type": "markdown",
   "metadata": {},
   "source": [
    "Let's look if the time of posting influence the number of likes. Do you see a peak at 5am ? Do you really think we should post at 5am ? What's going on here ?"
   ]
  },
  {
   "cell_type": "code",
   "execution_count": null,
   "metadata": {
    "collapsed": false
   },
   "outputs": [],
   "source": [
    "fb.likes.groupby(fb.time.dt.hour).mean().plot(kind='bar', figsize=(15,5));\n",
    "plt.figure()\n",
    "tw.likes.groupby(tw.time.dt.hour).mean().plot(kind='bar', figsize=(15,5));"
   ]
  }
 ],
 "metadata": {
  "kernelspec": {
   "display_name": "Python 3",
   "language": "python",
   "name": "python3"
  },
  "language_info": {
   "codemirror_mode": {
    "name": "ipython",
    "version": 3
   },
   "file_extension": ".py",
   "mimetype": "text/x-python",
   "name": "python",
   "nbconvert_exporter": "python",
   "pygments_lexer": "ipython3",
   "version": "3.5.2"
  }
 },
 "nbformat": 4,
 "nbformat_minor": 0
}
