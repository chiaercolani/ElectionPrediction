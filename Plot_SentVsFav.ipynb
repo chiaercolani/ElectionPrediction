{
 "cells": [
  {
   "cell_type": "code",
   "execution_count": 43,
   "metadata": {
    "collapsed": false
   },
   "outputs": [
    {
     "name": "stdout",
     "output_type": "stream",
     "text": [
      "(40786,)\n",
      "[[ 1.          1.        ]\n",
      " [ 0.          0.        ]\n",
      " [-0.4         0.        ]\n",
      " ..., \n",
      " [ 0.78125     6.        ]\n",
      " [-0.89285714  8.        ]\n",
      " [ 0.          6.        ]]\n"
     ]
    },
    {
     "data": {
      "image/png": "[encoded data removed]",
      "text/plain": [
       "<matplotlib.figure.Figure at 0x9f907f0>"
      ]
     },
     "metadata": {},
     "output_type": "display_data"
    }
   ],
   "source": [
    "import numpy as np \n",
    "import scipy.io\n",
    "import matplotlib.pyplot as plt\n",
    "%matplotlib inline\n",
    "import os.path\n",
    "\n",
    "nameFile = 'sentimen_john.csv'\n",
    "\n",
    "sentiment=np.loadtxt(nameFile,dtype=float, comments='++++',delimiter=';',skiprows=1,usecols=(1,))\n",
    "fav=np.loadtxt(nameFile,dtype=int, comments='++++',delimiter=';',skiprows=1,usecols=(3,))\n",
    "retweet=np.loadtxt(nameFile,dtype=int, comments='++++',delimiter=';',skiprows=1,usecols=(4,))\n",
    "\n",
    "\n",
    "like = fav+ retweet\n",
    "\n",
    "print(like.shape)\n",
    "\n",
    "data = np.transpose([sentiment,like])\n",
    "\n",
    "print(data)\n",
    "\n",
    "plt.spy( data , markersize=2, color='black');\n",
    "\n",
    "\n",
    "\n",
    "\n"
   ]
  }
 ],
 "metadata": {
  "kernelspec": {
   "display_name": "Python [conda root]",
   "language": "python",
   "name": "conda-root-py"
  },
  "language_info": {
   "codemirror_mode": {
    "name": "ipython",
    "version": 3
   },
   "file_extension": ".py",
   "mimetype": "text/x-python",
   "name": "python",
   "nbconvert_exporter": "python",
   "pygments_lexer": "ipython3",
   "version": "3.5.2"
  }
 },
 "nbformat": 4,
 "nbformat_minor": 1
}
