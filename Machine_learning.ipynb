{
 "cells": [
  {
   "cell_type": "code",
   "execution_count": 81,
   "metadata": {
    "collapsed": false,
    "scrolled": true
   },
   "outputs": [
    {
     "name": "stdout",
     "output_type": "stream",
     "text": [
      "18\n"
     ]
    }
   ],
   "source": [
    "#Training phase\n",
    "import numpy as np \n",
    "from sklearn import linear_model\n",
    "\n",
    "mean_rubio=np.loadtxt(r'mean/mean_rubio.csv', comments='++++',delimiter=';',skiprows=1,usecols=(4,))\n",
    "mean_murphy=np.loadtxt(r'mean/mean_murphy.csv', comments='++++',delimiter=';',skiprows=1,usecols=(4,))\n",
    "\n",
    "mean_tammy=np.loadtxt(r'mean/mean_tammy.csv', comments='++++',delimiter=';',skiprows=1,usecols=(4,))\n",
    "mean_kirk=np.loadtxt(r'mean/mean_kirk.csv', comments='++++',delimiter=';',skiprows=1,usecols=(4,))\n",
    "\n",
    "mean_hassan=np.loadtxt(r'mean/mean_hassan.csv', comments='++++',delimiter=';',skiprows=1,usecols=(4,))\n",
    "mean_ayotte=np.loadtxt(r'mean/mean_kellyayotte.csv', comments='++++',delimiter=';',skiprows=1,usecols=(4,))\n",
    "\n",
    "mean_john=np.loadtxt(r'mean/mean_john.csv', comments='++++',delimiter=';',skiprows=1,usecols=(4,))\n",
    "mean_kirkpatrick=np.loadtxt(r'mean/mean_kirkpatrick.csv', comments='++++',delimiter=';',skiprows=1,usecols=(4,))\n",
    "\n",
    "mean_harris=np.loadtxt(r'mean/mean_harris.csv', comments='++++',delimiter=';',skiprows=1,usecols=(4,))\n",
    "mean_sanchez=np.loadtxt(r'mean/mean_sanchez.csv', comments='++++',delimiter=';',skiprows=1,usecols=(4,))\n",
    "\n",
    "mean_schumer=np.loadtxt(r'mean/mean_schumer.csv', comments='++++',delimiter=';',skiprows=1,usecols=(4,))\n",
    "mean_wendylong=np.loadtxt(r'mean/mean_wendylong.csv', comments='++++',delimiter=';',skiprows=1,usecols=(4,))\n",
    "\n",
    "mean_blumenthal=np.loadtxt(r'mean/mean_blumenthal.csv', comments='++++',delimiter=';',skiprows=1,usecols=(4,))\n",
    "mean_carter=np.loadtxt(r'mean/mean_carter.csv', comments='++++',delimiter=';',skiprows=1,usecols=(4,))\n",
    "\n",
    "mean_portman=np.loadtxt(r'mean/mean_portman.csv', comments='++++',delimiter=';',skiprows=1,usecols=(4,))\n",
    "mean_strickland=np.loadtxt(r'mean/mean_strickland.csv', comments='++++',delimiter=';',skiprows=1,usecols=(4,))\n",
    "\n",
    "mean_isakson=np.loadtxt(r'mean/mean_isakson.csv', comments='++++',delimiter=';',skiprows=1,usecols=(4,))\n",
    "mean_barksdale=np.loadtxt(r'mean/mean_barksdale.csv', comments='++++',delimiter=';',skiprows=1,usecols=(4,))\n",
    "\n",
    "mean_rubio = np.append(mean_rubio,[1.8*1000000,27122])\n",
    "mean_murphy = np.append(mean_murphy,[12.3*1000,5978])\n",
    "\n",
    "mean_tammy = np.append(mean_tammy,[36.6*1000,2853])\n",
    "mean_kirk = np.append(mean_kirk,[52.8*1000,4550])\n",
    "\n",
    "mean_hassan = np.append(mean_hassan,[17.6*1000,672])\n",
    "mean_ayotte = np.append(mean_ayotte,[58.8*1000,11043])\n",
    "\n",
    "mean_john = np.append(mean_john,[2.09*1000000,21758])\n",
    "mean_kirkpatrick = np.append(mean_kirkpatrick,[11.6*1000,534])\n",
    "\n",
    "mean_harris = np.append(mean_harris,[143*1000,3202])\n",
    "mean_sanchez= np.append(mean_sanchez,[19.9*1000,885])\n",
    "\n",
    "mean_schumer=np.append(mean_schumer,[207*1000,2759])\n",
    "mean_wendylong=np.append(mean_wendylong,[7345,1007])\n",
    "\n",
    "mean_blumenthal=np.append(mean_blumenthal,[48.2*100,915])\n",
    "mean_carter=np.append(mean_carter,[1311,128])\n",
    "\n",
    "mean_portman=np.append(mean_portman,[59.7*100,1567])\n",
    "mean_strickland=np.append(mean_strickland,[16700,2566])\n",
    "\n",
    "mean_isakson=np.append(mean_isakson,[27600,834])\n",
    "mean_barksdale=np.append(mean_barksdale,[1133,354])\n",
    "\n",
    "Y = [52.0,44.3,54.9,39.8,47.97,47.87,53.0,41.0,61.8,38.2,70.4,27.4,63.2,34.6,58.0,37.1,54.8,41.0]\n",
    "print(len(Y))\n",
    "MEANS = np.vstack((mean_strickland,mean_john,mean_hassan, mean_kirk,mean_tammy,mean_blumenthal,mean_schumer))\n",
    "Y = [0.371,0.53,0.4797,0.398,0.549,0.632,0.704]\n",
    "#Y = [0,1,1,0,1,1,1]"
   ]
  },
  {
   "cell_type": "code",
   "execution_count": 80,
   "metadata": {
    "collapsed": false
   },
   "outputs": [
    {
     "name": "stdout",
     "output_type": "stream",
     "text": [
      "[ 0.57302544]\n",
      "[ 0.66168542]\n"
     ]
    },
    {
     "name": "stderr",
     "output_type": "stream",
     "text": [
      "C:\\Program Files\\Anaconda3\\lib\\site-packages\\sklearn\\utils\\validation.py:386: DeprecationWarning: Passing 1d arrays as data is deprecated in 0.17 and willraise ValueError in 0.19. Reshape your data either using X.reshape(-1, 1) if your data has a single feature or X.reshape(1, -1) if it contains a single sample.\n",
      "  DeprecationWarning)\n",
      "C:\\Program Files\\Anaconda3\\lib\\site-packages\\sklearn\\utils\\validation.py:386: DeprecationWarning: Passing 1d arrays as data is deprecated in 0.17 and willraise ValueError in 0.19. Reshape your data either using X.reshape(-1, 1) if your data has a single feature or X.reshape(1, -1) if it contains a single sample.\n",
      "  DeprecationWarning)\n"
     ]
    }
   ],
   "source": [
    "#Prediction phase\n",
    "clf = linear_model.LinearRegression(fit_intercept=False)\n",
    "\n",
    "clf.fit(MEANS, Y)\n",
    "#print (clf.coef_)\n",
    "\n",
    "print (clf.predict(mean_portman))\n",
    "print (clf.predict(mean_wendylong))"
   ]
  }
 ],
 "metadata": {
  "anaconda-cloud": {},
  "kernelspec": {
   "display_name": "Python [conda root]",
   "language": "python",
   "name": "conda-root-py"
  },
  "language_info": {
   "codemirror_mode": {
    "name": "ipython",
    "version": 3
   },
   "file_extension": ".py",
   "mimetype": "text/x-python",
   "name": "python",
   "nbconvert_exporter": "python",
   "pygments_lexer": "ipython3",
   "version": "3.5.2"
  }
 },
 "nbformat": 4,
 "nbformat_minor": 1
}
