{
 "cells": [
  {
   "cell_type": "code",
   "execution_count": 103,
   "metadata": {
    "collapsed": false,
    "scrolled": true
   },
   "outputs": [],
   "source": [
    "#Training phase\n",
    "import numpy as np \n",
    "mean_ayotte_l=np.loadtxt(r'mean/mean_kellyayotte.csv',dtype=str, comments='++++',delimiter=';',skiprows=1,usecols=(4,))\n",
    "mean_hassan_w=np.loadtxt(r'mean/mean_hassan.csv',dtype=str, comments='++++',delimiter=';',skiprows=1,usecols=(4,))\n",
    "mean_murphy_l=np.loadtxt(r'mean/mean_murphy.csv',dtype=str, comments='++++',delimiter=';',skiprows=1,usecols=(4,))\n",
    "mean_rubio_w=np.loadtxt(r'mean/mean_rubio.csv',dtype=str, comments='++++',delimiter=';',skiprows=1,usecols=(4,))\n",
    "mean_kirk_l=np.loadtxt(r'mean/mean_kirk.csv',dtype=str, comments='++++',delimiter=';',skiprows=1,usecols=(4,))\n",
    "mean_tammy_w=np.loadtxt(r'mean/mean_tammy.csv',dtype=str, comments='++++',delimiter=';',skiprows=1,usecols=(4,))\n",
    "mean_kirkpatrick_l=np.loadtxt(r'mean/mean_kirkpatrick.csv',dtype=str, comments='++++',delimiter=';',skiprows=1,usecols=(4,))\n",
    "mean_john_w=np.loadtxt(r'mean/mean_john.csv',dtype=str, comments='++++',delimiter=';',skiprows=1,usecols=(4,))\n",
    "mean_wendylong_l=np.loadtxt(r'mean/mean_kellyayotte.csv',dtype=str, comments='++++',delimiter=';',skiprows=1,usecols=(4,))\n",
    "mean_ayotte_l=np.loadtxt(r'mean/mean_kellyayotte.csv',dtype=str, comments='++++',delimiter=';',skiprows=1,usecols=(4,))\n",
    "mean_ayotte_l=np.loadtxt(r'mean/mean_kellyayotte.csv',dtype=str, comments='++++',delimiter=';',skiprows=1,usecols=(4,))\n",
    "mean_ayotte_l=np.loadtxt(r'mean/mean_kellyayotte.csv',dtype=str, comments='++++',delimiter=';',skiprows=1,usecols=(4,))\n",
    "mean_ayotte_l=np.loadtxt(r'mean/mean_kellyayotte.csv',dtype=str, comments='++++',delimiter=';',skiprows=1,usecols=(4,))\n",
    "mean_ayotte_l=np.loadtxt(r'mean/mean_kellyayotte.csv',dtype=str, comments='++++',delimiter=';',skiprows=1,usecols=(4,))\n",
    "\n"
   ]
  },
  {
   "cell_type": "code",
   "execution_count": null,
   "metadata": {
    "collapsed": true
   },
   "outputs": [],
   "source": [
    "#Prediction phase"
   ]
  }
 ],
 "metadata": {
  "kernelspec": {
   "display_name": "Python 2",
   "language": "python",
   "name": "python2"
  },
  "language_info": {
   "codemirror_mode": {
    "name": "ipython",
    "version": 2
   },
   "file_extension": ".py",
   "mimetype": "text/x-python",
   "name": "python",
   "nbconvert_exporter": "python",
   "pygments_lexer": "ipython2",
   "version": "2.7.10"
  }
 },
 "nbformat": 4,
 "nbformat_minor": 1
}
