{
 "cells": [
  {
   "cell_type": "code",
   "execution_count": 15,
   "metadata": {
    "collapsed": false,
    "scrolled": true
   },
   "outputs": [
    {
     "ename": "ValueError",
     "evalue": "all the input array dimensions except for the concatenation axis must match exactly",
     "output_type": "error",
     "traceback": [
      "\u001b[0;31m---------------------------------------------------------------------------\u001b[0m",
      "\u001b[0;31mValueError\u001b[0m                                Traceback (most recent call last)",
      "\u001b[0;32m<ipython-input-15-cc33653e482e>\u001b[0m in \u001b[0;36m<module>\u001b[0;34m()\u001b[0m\n\u001b[1;32m     17\u001b[0m \u001b[0;34m\u001b[0m\u001b[0m\n\u001b[1;32m     18\u001b[0m \u001b[0;34m\u001b[0m\u001b[0m\n\u001b[0;32m---> 19\u001b[0;31m \u001b[0mMEANS\u001b[0m \u001b[0;34m=\u001b[0m \u001b[0mnp\u001b[0m\u001b[0;34m.\u001b[0m\u001b[0mvstack\u001b[0m\u001b[0;34m(\u001b[0m\u001b[0;34m(\u001b[0m\u001b[0mmean_strickland\u001b[0m\u001b[0;34m,\u001b[0m\u001b[0mmean_john\u001b[0m\u001b[0;34m,\u001b[0m\u001b[0mmean_rubio\u001b[0m\u001b[0;34m)\u001b[0m\u001b[0;34m)\u001b[0m\u001b[0;34m\u001b[0m\u001b[0m\n\u001b[0m\u001b[1;32m     20\u001b[0m \u001b[0mMEANS\u001b[0m\u001b[0;34m\u001b[0m\u001b[0m\n",
      "\u001b[0;32m/System/Library/Frameworks/Python.framework/Versions/2.7/Extras/lib/python/numpy/core/shape_base.pyc\u001b[0m in \u001b[0;36mvstack\u001b[0;34m(tup)\u001b[0m\n\u001b[1;32m    226\u001b[0m \u001b[0;34m\u001b[0m\u001b[0m\n\u001b[1;32m    227\u001b[0m     \"\"\"\n\u001b[0;32m--> 228\u001b[0;31m     \u001b[0;32mreturn\u001b[0m \u001b[0m_nx\u001b[0m\u001b[0;34m.\u001b[0m\u001b[0mconcatenate\u001b[0m\u001b[0;34m(\u001b[0m\u001b[0;34m[\u001b[0m\u001b[0matleast_2d\u001b[0m\u001b[0;34m(\u001b[0m\u001b[0m_m\u001b[0m\u001b[0;34m)\u001b[0m \u001b[0;32mfor\u001b[0m \u001b[0m_m\u001b[0m \u001b[0;32min\u001b[0m \u001b[0mtup\u001b[0m\u001b[0;34m]\u001b[0m\u001b[0;34m,\u001b[0m \u001b[0;36m0\u001b[0m\u001b[0;34m)\u001b[0m\u001b[0;34m\u001b[0m\u001b[0m\n\u001b[0m\u001b[1;32m    229\u001b[0m \u001b[0;34m\u001b[0m\u001b[0m\n\u001b[1;32m    230\u001b[0m \u001b[0;32mdef\u001b[0m \u001b[0mhstack\u001b[0m\u001b[0;34m(\u001b[0m\u001b[0mtup\u001b[0m\u001b[0;34m)\u001b[0m\u001b[0;34m:\u001b[0m\u001b[0;34m\u001b[0m\u001b[0m\n",
      "\u001b[0;31mValueError\u001b[0m: all the input array dimensions except for the concatenation axis must match exactly"
     ]
    }
   ],
   "source": [
    "#Training phase\n",
    "import numpy as np \n",
    "mean_ayotte=np.loadtxt(r'mean/mean_kellyayotte.csv', comments='++++',delimiter=';',skiprows=1,usecols=(4,))\n",
    "mean_hassan=np.loadtxt(r'mean/mean_hassan.csv', comments='++++',delimiter=';',skiprows=1,usecols=(4,))\n",
    "mean_murphy=np.loadtxt(r'mean/mean_murphy.csv', comments='++++',delimiter=';',skiprows=1,usecols=(4,))\n",
    "mean_rubio=np.loadtxt(r'mean/mean_rubio.csv', comments='++++',delimiter=';',skiprows=1,usecols=(4,))\n",
    "mean_kirk=np.loadtxt(r'mean/mean_kirk.csv', comments='++++',delimiter=';',skiprows=1,usecols=(4,))\n",
    "mean_tammy=np.loadtxt(r'mean/mean_tammy.csv', comments='++++',delimiter=';',skiprows=1,usecols=(4,))\n",
    "mean_kirkpatrick=np.loadtxt(r'mean/mean_kirkpatrick.csv', comments='++++',delimiter=';',skiprows=1,usecols=(4,))\n",
    "mean_john=np.loadtxt(r'mean/mean_john.csv', comments='++++',delimiter=';',skiprows=1,usecols=(4,))\n",
    "mean_wendylong=np.loadtxt(r'mean/mean_wendylong.csv', comments='++++',delimiter=';',skiprows=1,usecols=(4,))\n",
    "mean_schumer=np.loadtxt(r'mean/mean_schumer.csv', comments='++++',delimiter=';',skiprows=1,usecols=(4,))\n",
    "mean_carter=np.loadtxt(r'mean/mean_carter.csv', comments='++++',delimiter=';',skiprows=1,usecols=(4,))\n",
    "mean_blumenthal=np.loadtxt(r'mean/mean_blumenthal.csv', comments='++++',delimiter=';',skiprows=1,usecols=(4,))\n",
    "mean_portman=np.loadtxt(r'mean/mean_portman.csv', comments='++++',delimiter=';',skiprows=1,usecols=(4,))\n",
    "mean_strickland=np.loadtxt(r'mean/mean_strickland.csv', comments='++++',delimiter=';',skiprows=1,usecols=(4,))\n",
    "\n",
    "\n",
    "MEANS = np.vstack((mean_strickland,mean_john,mean_rubio))\n",
    "MEANS"
   ]
  },
  {
   "cell_type": "code",
   "execution_count": null,
   "metadata": {
    "collapsed": true
   },
   "outputs": [],
   "source": [
    "#Prediction phase"
   ]
  }
 ],
 "metadata": {
  "kernelspec": {
   "display_name": "Python 2",
   "language": "python",
   "name": "python2"
  },
  "language_info": {
   "codemirror_mode": {
    "name": "ipython",
    "version": 2
   },
   "file_extension": ".py",
   "mimetype": "text/x-python",
   "name": "python",
   "nbconvert_exporter": "python",
   "pygments_lexer": "ipython2",
   "version": "2.7.10"
  }
 },
 "nbformat": 4,
 "nbformat_minor": 1
}
