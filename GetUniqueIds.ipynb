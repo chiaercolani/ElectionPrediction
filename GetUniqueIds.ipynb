{
 "cells": [
  {
   "cell_type": "code",
   "execution_count": 17,
   "metadata": {
    "collapsed": false
   },
   "outputs": [
    {
     "name": "stdout",
     "output_type": "stream",
     "text": [
      "output_got#barackobama @barackobama.csv 100 76\n",
      "output_gotCampbellforLa.csv 905 231\n",
      "output_gotCatherineForNV.csv 6595 2145\n",
      "output_gotChrisvance123.csv 723 252\n",
      "output_gotChrisVanHollen.csv 719 518\n",
      "output_gotChuckGrassley.csv 7644 2841\n",
      "output_gotDanCarterCT.csv 320 128\n",
      "output_gotGovernorHassan.csv 1296 672\n",
      "output_gotJasonKander.csv 6148 2573\n",
      "output_gotJerryMoran.csv 771 484\n",
      "output_gotjimbarksdale.csv 1058 354\n",
      "output_gotJimGrayLexKY.csv 505 306\n",
      "output_gotJohnKennedyLA.csv 722 259\n",
      "output_gotKamalaHarris.csv 5930 3202\n",
      "output_gotKathyforMD.csv 960 411\n",
      "output_gotKellyAyotte.csv 25570 11043\n",
      "output_gotLorettaSanchez.csv 1333 885\n",
      "output_gotmarcorubio.csv 73367 27122\n",
      "output_gotMikeCrapo.csv 3034 2111\n",
      "output_gotPatrickMurphyFL.csv 21705 5978\n",
      "output_gotpattyforiowa.csv 1596 540\n",
      "output_gotPattyMurray.csv 5063 1698\n",
      "output_gotRandPaul.csv 26249 13915\n",
      "output_gotRepJoeHeck.csv 2547 1471\n",
      "output_gotRepKirkpatrick.csv 968 534\n",
      "output_gotRickSantorum.csv 4684 3169\n",
      "output_gotRonWyden.csv 2285 1365\n",
      "output_gotRoyBlunt.csv 2309 1202\n",
      "output_gotSenatorIsakson.csv 1626 834\n",
      "output_gotSenatorKirk.csv 6541 4550\n",
      "output_gotSenBlumenthal.csv 1572 915\n",
      "output_gotSenEvanBayh.csv 459 351\n",
      "output_gotSenJohnMcCain.csv 40945 21758\n",
      "output_gotsenrobportman.csv 3770 1567\n",
      "output_gotSenSchumer.csv 4961 2759\n",
      "output_gotSturgill4Idaho.csv 148 79\n",
      "output_gotTammyforIL.csv 4584 2853\n",
      "output_gotTed_Strickland.csv 6301 2566\n",
      "output_gotToddYoungIN.csv 2959 1088\n",
      "output_gotWendyLongNY.csv 1872 1007\n",
      "output_gotwiesner4senate.csv 23 13\n",
      "2309 1202\n"
     ]
    }
   ],
   "source": [
    "import numpy as np\n",
    "import codecs\n",
    "import os\n",
    "for file in os.listdir(\"./data\"):\n",
    "    if file.endswith(\".csv\"):\n",
    "        cand = r'data/'+file\n",
    "        filecp = codecs.open(cand, encoding = 'latin-1')\n",
    "        mydata = np.loadtxt(filecp, dtype=str, comments='++++',delimiter=';',skiprows=1,usecols=(0,))\n",
    "        print(file + \" \" + str(len(mydata)) + \" \" + str(len(np.unique(mydata))))\n",
    "        \n"
   ]
  }
 ],
 "metadata": {
  "anaconda-cloud": {},
  "kernelspec": {
   "display_name": "Python [Root]",
   "language": "python",
   "name": "Python [Root]"
  },
  "language_info": {
   "codemirror_mode": {
    "name": "ipython",
    "version": 3
   },
   "file_extension": ".py",
   "mimetype": "text/x-python",
   "name": "python",
   "nbconvert_exporter": "python",
   "pygments_lexer": "ipython3",
   "version": "3.5.2"
  }
 },
 "nbformat": 4,
 "nbformat_minor": 0
}
